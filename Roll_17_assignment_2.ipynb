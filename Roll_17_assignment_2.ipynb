{
 "cells": [
  {
   "cell_type": "code",
   "execution_count": 1,
   "metadata": {
    "collapsed": true
   },
   "outputs": [],
   "source": [
    "import tensorflow as tf"
   ]
  },
  {
   "cell_type": "code",
   "execution_count": 4,
   "metadata": {},
   "outputs": [
    {
     "name": "stdout",
     "output_type": "stream",
     "text": [
      "[ 5.19999981  2.20000005  3.20000005]\n",
      "[ 6.19999981  2.5         3.70000005]\n"
     ]
    }
   ],
   "source": [
    "arr1=tf.constant([5.2,2.2,3.2])\n",
    "arr2=tf.constant([6.2,2.5,3.7])\n",
    "result=tf.global_variables_initializer()\n",
    "with tf.Session() as session:\n",
    "    session.run(result)\n",
    "    print(session.run(arr1))\n",
    "with tf.Session() as session:\n",
    "    session.run(result)\n",
    "    print(session.run(arr2))"
   ]
  },
  {
   "cell_type": "code",
   "execution_count": 5,
   "metadata": {},
   "outputs": [
    {
     "name": "stdout",
     "output_type": "stream",
     "text": [
      "[ 11.39999962   4.69999981   6.9000001 ]\n"
     ]
    }
   ],
   "source": [
    "sum=tf.add(arr1,arr2)\n",
    "with tf.Session() as session:\n",
    "    session.run(sum)\n",
    "    print(session.run(sum))"
   ]
  },
  {
   "cell_type": "code",
   "execution_count": 17,
   "metadata": {},
   "outputs": [
    {
     "name": "stdout",
     "output_type": "stream",
     "text": [
      "3.53333\n"
     ]
    }
   ],
   "source": [
    "mean_arr1=tf.reduce_mean(arr1)\n",
    "with tf.Session() as session:\n",
    "    session.run(mean_arr1)\n",
    "    print(session.run(mean_arr1))"
   ]
  },
  {
   "cell_type": "code",
   "execution_count": 24,
   "metadata": {},
   "outputs": [
    {
     "name": "stdout",
     "output_type": "stream",
     "text": [
      "4.13333\n"
     ]
    }
   ],
   "source": [
    "mean_arr2=tf.reduce_mean(arr2)\n",
    "with tf.Session() as session:\n",
    "    session.run(mean_arr2)\n",
    "    print(session.run(mean_arr2))"
   ]
  },
  {
   "cell_type": "code",
   "execution_count": 31,
   "metadata": {},
   "outputs": [
    {
     "name": "stdout",
     "output_type": "stream",
     "text": [
      "[ 1.66666675 -1.33333302 -0.33333302]\n",
      "hey, here's the variance\n",
      "1.55556\n"
     ]
    }
   ],
   "source": [
    "###1.Calculate variance for x : variance(x)=sum((x−mean(x))2)\n",
    "rhs=tf.subtract(arr1,mean_arr1)\n",
    "with tf.Session() as session:\n",
    "    session.run(rhs)\n",
    "    print(session.run(rhs))\n",
    "### squaring the values of array!!! \n",
    "squaring_rhs=tf.square(rhs)\n",
    "variance=tf.reduce_mean(squaring_rhs)\n",
    "with tf.Session() as session:\n",
    "    session.run(variance) ### phewwwwwww the varinace\n",
    "    print(\"hey, here's the variance\")\n",
    "    print(session.run(variance))"
   ]
  },
  {
   "cell_type": "code",
   "execution_count": 16,
   "metadata": {},
   "outputs": [
    {
     "name": "stdout",
     "output_type": "stream",
     "text": [
      "hey, here's the variance\n",
      "1.55556\n"
     ]
    }
   ],
   "source": [
    "### squaring the values of array!!! \n",
    "squaring_rhs=tf.square(rhs)\n",
    "variance=tf.reduce_mean(squaring_rhs)\n",
    "with tf.Session() as session:\n",
    "    session.run(variance) ### phewwwwwww the varinace\n",
    "    print(\"hey, here's the variance\")\n",
    "    print(session.run(variance))"
   ]
  },
  {
   "cell_type": "code",
   "execution_count": 28,
   "metadata": {},
   "outputs": [
    {
     "name": "stdout",
     "output_type": "stream",
     "text": [
      "[ 1.66666675 -1.33333302 -0.33333302]\n",
      "[ 2.0666666  -1.63333321 -0.43333316]\n",
      "[ 3.44444442  2.17777705  0.14444424]\n",
      "1.92222\n"
     ]
    }
   ],
   "source": [
    "###Calculate covariance of x & y \n",
    "###covariance=sum((x(i)−mean(x))∗(y(i)−mean(y)))\n",
    "for_arr1=tf.subtract(arr1,mean_arr1)\n",
    "with tf.Session() as session:\n",
    "    session.run(for_arr1)\n",
    "    print(session.run(for_arr1))\n",
    "for_arr2=tf.subtract(arr2,mean_arr2)\n",
    "with tf.Session() as session:\n",
    "    session.run(for_arr2)\n",
    "    print(session.run(for_arr2))\n",
    "mul=tf.multiply(for_arr1,for_arr2)\n",
    "with tf.Session() as session:\n",
    "    session.run(mul)\n",
    "    print(session.run(mul))\n",
    "cov=tf.reduce_mean(mul)\n",
    "with tf.Session() as session:\n",
    "    session.run(cov)\n",
    "    print(session.run(cov))"
   ]
  },
  {
   "cell_type": "code",
   "execution_count": 29,
   "metadata": {},
   "outputs": [
    {
     "name": "stdout",
     "output_type": "stream",
     "text": [
      "1.23571\n"
     ]
    }
   ],
   "source": [
    "###value of m\n",
    "val_m=tf.divide(cov,variance)\n",
    "with tf.Session() as session:\n",
    "    session.run(val_m)\n",
    "    print(session.run(val_m))"
   ]
  },
  {
   "cell_type": "code",
   "execution_count": 33,
   "metadata": {},
   "outputs": [
    {
     "name": "stdout",
     "output_type": "stream",
     "text": [
      "4.36619\n",
      "you know what??????, it's over!!!= Thus the 'C'\n",
      "-0.232857\n"
     ]
    }
   ],
   "source": [
    "###Calculate value of c : c=mean(y)−m∗mean(x)\n",
    "sub_step=tf.multiply(val_m,mean_arr1)\n",
    "with tf.Session() as session:\n",
    "    session.run(sub_step)\n",
    "    print(session.run(sub_step))\n",
    "val_c=tf.subtract(mean_arr2,sub_step)\n",
    "with tf.Session() as session:\n",
    "    session.run(val_c)\n",
    "    print(\"you know what??????, it's over!!!= Thus the 'C'\")\n",
    "    print(session.run(val_c))"
   ]
  },
  {
   "cell_type": "code",
   "execution_count": null,
   "metadata": {
    "collapsed": true
   },
   "outputs": [],
   "source": []
  }
 ],
 "metadata": {
  "kernelspec": {
   "display_name": "Python 3",
   "language": "python",
   "name": "python3"
  },
  "language_info": {
   "codemirror_mode": {
    "name": "ipython",
    "version": 3
   },
   "file_extension": ".py",
   "mimetype": "text/x-python",
   "name": "python",
   "nbconvert_exporter": "python",
   "pygments_lexer": "ipython3",
   "version": "3.6.1"
  }
 },
 "nbformat": 4,
 "nbformat_minor": 2
}
